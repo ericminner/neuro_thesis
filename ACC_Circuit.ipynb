{
  "nbformat": 4,
  "nbformat_minor": 0,
  "metadata": {
    "colab": {
      "name": "Comp&Brain.ipynb",
      "provenance": [],
      "collapsed_sections": [],
      "include_colab_link": true
    },
    "kernelspec": {
      "name": "python3",
      "display_name": "Python 3"
    }
  },
  "cells": [
    {
      "cell_type": "markdown",
      "metadata": {
        "id": "view-in-github",
        "colab_type": "text"
      },
      "source": [
        "<a href=\"https://colab.research.google.com/github/ericminner/neuro_thesis/blob/main/ACC_Circuit.ipynb\" target=\"_parent\"><img src=\"https://colab.research.google.com/assets/colab-badge.svg\" alt=\"Open In Colab\"/></a>"
      ]
    },
    {
      "cell_type": "code",
      "metadata": {
        "id": "cq2N_20Ezt6C"
      },
      "source": [
        "import numpy, random, os"
      ],
      "execution_count": null,
      "outputs": []
    },
    {
      "cell_type": "code",
      "metadata": {
        "id": "_4qu90wg0KNP"
      },
      "source": [
        "#How the network modifies the random weights, set to 1 in order to simulate neural processing\n",
        "learning_rate = 1\n",
        "bias = 1\n",
        "weights = [random.random(), random.random(), random.random()]"
      ],
      "execution_count": null,
      "outputs": []
    },
    {
      "cell_type": "code",
      "metadata": {
        "id": "v7rgeyL50NLz"
      },
      "source": [
        "def CircuitPerceptron(input1, input2, output):\n",
        "    # Defines the computation of the ACC\n",
        "    # Takes the 2 values of neurons in the MThal and the MSN and generates the output in the ACC\n",
        "    ACC_output = input1*weights[0]+input2*weights[1]+bias*weights[2]\n",
        "    if ACC_output > 0:\n",
        "    #Activation function, chosen to simulate action potential\n",
        "        ACC_output = 1\n",
        "    else:\n",
        "        ACC_output = 0\n",
        "\n",
        "    #Error to modify weights of all the connections to the output neuron \n",
        "    error = ouput - ACC_output\n",
        "    weights[0] += error * input1 * learning_rate\n",
        "    weights[1] += error * input2 * learning_rate\n",
        "    weights[2] += error * bias * learning_rate\n",
        "\n",
        "    #Learning phase, arbitrarily picked 60 repititions, can be adjusted\n",
        "    for i in range(60):\n",
        "      CircuitPerceptron(1,1,1) #Excitatory or excitatory\n",
        "      CircuitPerceptron(1,0,1) #Excitatory or inhibitory\n",
        "      CircuitPerceptron(0,1,1) #Inhibitory or excitatory\n",
        "      CircuitPerceptron(0,0,0) #Inhibitory or inhibitory"
      ],
      "execution_count": null,
      "outputs": []
    },
    {
      "cell_type": "code",
      "metadata": {
        "id": "0zSWcZsD4JPI",
        "colab": {
          "base_uri": "https://localhost:8080/"
        },
        "outputId": "fafcc0c2-2a06-480e-988c-f78bb5eea920"
      },
      "source": [
        "#Test\n",
        "x = float(input('MSN enkephalin injection conc., nM: '))\n",
        "y= float(input('MThal enkephalin injection conc., nM: '))\n",
        "\n",
        "ACC_output = x*weights[0] + y*weights[1] + bias*weights[2]\n",
        "if ACC_output >= 10: #Activation\n",
        "  ACC_output = \"Excitatory\"\n",
        "else:\n",
        "  ACC_output = \"Inhibitory\"\n",
        "\n",
        "print(\"ACC output is: \", ACC_output)"
      ],
      "execution_count": null,
      "outputs": [
        {
          "output_type": "stream",
          "text": [
            "MSN enkephalin injection conc., nM: 12\n",
            "MThal enkephalin injection conc., nM: 12\n",
            "ACC output is:  Excitatory\n"
          ],
          "name": "stdout"
        }
      ]
    }
  ]
}